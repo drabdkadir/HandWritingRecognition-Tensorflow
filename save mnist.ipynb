{
 "cells": [
  {
   "cell_type": "code",
   "execution_count": null,
   "metadata": {
    "collapsed": true
   },
   "outputs": [],
   "source": [
    "from tensorflow.examples.tutorials.mnist import input_data\n",
    "import tensorflow as tf\n",
    "mnist = input_data.read_data_sets(r'D:\\tmp\\MNIST_data', one_hot=True)"
   ]
  },
  {
   "cell_type": "markdown",
   "metadata": {
    "collapsed": false
   },
   "source": [
    "input_data.read_data_sets:\n",
    "'''\n",
    " return base.Datasets(train=train, validation=validation, test=test)\n",
    "'''\n",
    "其中的 base.Datasets 是Collections类的一个nametuple，\n",
    " Datasets = collections.namedtuple('Datasets', ['train', 'validation', 'test'])\n",
    "具体赋值的内容是\n",
    " train = DataSet(train_images, train_labels, **options)\n",
    " validation = DataSet(validation_images, validation_labels, **options)\n",
    " test = DataSet(test_images, test_labels, **options)\n",
    "也就是说这行代码返回了训练集、验证集和测试集的图片、标签和其它操作；可以直接通过mnist.test / mnist.image 等来进行调用；"
   ]
  },
  {
   "cell_type": "markdown",
   "metadata": {},
   "source": [
    "mnist.train.next_batch:\n",
    "- return self._images[start:end], self._labels[start:end]\n",
    "通过这一段，默认返回一段其中的子集，返回结果由图片和标签组成的tuple；\n"
   ]
  },
  {
   "cell_type": "code",
   "execution_count": 16,
   "metadata": {
    "collapsed": false
   },
   "outputs": [
    {
     "name": "stdout",
     "output_type": "stream",
     "text": [
      "(50, 784)\n",
      "(50, 10)\n",
      "(784,)\n"
     ]
    }
   ],
   "source": [
    "batch = mnist.train.next_batch(50)\n",
    "#print(batch.shape)\n",
    "print(batch[0].shape)\n",
    "print(batch[1].shape)\n",
    "print(batch[0][1].shape)"
   ]
  },
  {
   "cell_type": "markdown",
   "metadata": {},
   "source": [
    "mnist的数据都是经过规范化的"
   ]
  },
  {
   "cell_type": "code",
   "execution_count": 17,
   "metadata": {
    "collapsed": false,
    "scrolled": true
   },
   "outputs": [],
   "source": [
    "#print(batch[0][0])"
   ]
  },
  {
   "cell_type": "markdown",
   "metadata": {},
   "source": [
    "获取的图片集合并一下"
   ]
  },
  {
   "cell_type": "code",
   "execution_count": 19,
   "metadata": {
    "collapsed": false
   },
   "outputs": [],
   "source": [
    "testbatch = mnist.test.next_batch(50)\n",
    "imgall = np.vstack((batch[0],testbatch[0]))"
   ]
  },
  {
   "cell_type": "code",
   "execution_count": 20,
   "metadata": {
    "collapsed": true
   },
   "outputs": [],
   "source": [
    "import cv2\n",
    "import numpy as np\n",
    "mnistimg1 = batch[0][0].reshape((28,28))\n",
    "#img = np.arange(28*28,dtype = np.uint8).reshape(28*28)\n",
    "img1 = np.uint8(255 * mnist)\n",
    "#print(img)\n",
    "try:\n",
    "    cv2.imshow('test',img)\n",
    "except Exception:\n",
    "    print('error!')\n",
    "    cv2.waitKey()\n",
    "    cv2.destroyAllWindows()\n",
    "else:\n",
    "    cv2.waitKey()\n",
    "    cv2.destroyAllWindows()\n",
    "\n",
    "\n",
    "import cv2\n",
    "import numpy as np\n",
    "for i in range(100):\n",
    "    mnisttrain = imgall[i].reshape((28,28))\n",
    "    #img = np.arange(28*28,dtype = np.uint8).reshape(28*28)\n",
    "    img2 = np.uint8(255 * mnisttrain)\n",
    "    #print(img)\n",
    "    try:\n",
    "        cv2.imwrite('./mnistimg/mnist_' + str(i) + '.jpg',img2)\n",
    "    except Exception:\n",
    "        print('error!')\n"
   ]
  }
 ],
 "metadata": {
  "anaconda-cloud": {},
  "kernelspec": {
   "display_name": "Python [conda root]",
   "language": "python",
   "name": "conda-root-py"
  },
  "language_info": {
   "codemirror_mode": {
    "name": "ipython",
    "version": 3
   },
   "file_extension": ".py",
   "mimetype": "text/x-python",
   "name": "python",
   "nbconvert_exporter": "python",
   "pygments_lexer": "ipython3",
   "version": "3.5.2"
  }
 },
 "nbformat": 4,
 "nbformat_minor": 1
}
